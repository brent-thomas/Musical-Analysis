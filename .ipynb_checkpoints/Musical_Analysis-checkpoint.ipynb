{
 "cells": [
  {
   "cell_type": "code",
   "execution_count": 5,
   "id": "d962d81d-2f49-462b-9653-9b3289320037",
   "metadata": {},
   "outputs": [],
   "source": [
    "import pandas as pd"
   ]
  },
  {
   "cell_type": "code",
   "execution_count": 7,
   "id": "5a93f2df-89cd-4b57-9af4-63c1da9a49c3",
   "metadata": {},
   "outputs": [],
   "source": [
    "#list of csv files\n",
    "file_list = [\"2010.csv\", \"2011.csv\",\"2012.csv\",\"2013.csv\",\"2014.csv\",\"2015.csv\",\"2016.csv\",\"2017.csv\",\"2018.csv\",\"2019.csv\"]"
   ]
  },
  {
   "cell_type": "code",
   "execution_count": 98,
   "id": "56fb45d3-83ec-43d9-8e7f-ee4cec1c5dda",
   "metadata": {},
   "outputs": [],
   "source": [
    "dataframes = []\n",
    "for file in file_list:\n",
    "    df=pd.read_csv(file)\n",
    "    dataframes.append(df)\n",
    "\n",
    "all_top_songs = pd.concat(dataframes, ignore_index=True)"
   ]
  },
  {
   "cell_type": "code",
   "execution_count": 100,
   "id": "8742dd31-f707-44d6-a485-84b49e4d1139",
   "metadata": {},
   "outputs": [],
   "source": [
    "#rename id column\n",
    "all_top_songs.rename(columns={df.columns[0]: \"id\"}, inplace=True)"
   ]
  },
  {
   "cell_type": "code",
   "execution_count": 102,
   "id": "fd044b2a-d670-4100-a9e6-16564490b82c",
   "metadata": {},
   "outputs": [
    {
     "name": "stdout",
     "output_type": "stream",
     "text": [
      "<class 'pandas.core.frame.DataFrame'>\n",
      "RangeIndex: 603 entries, 0 to 602\n",
      "Data columns (total 15 columns):\n",
      " #   Column     Non-Null Count  Dtype \n",
      "---  ------     --------------  ----- \n",
      " 0   id         603 non-null    int64 \n",
      " 1   title      603 non-null    object\n",
      " 2   artist     603 non-null    object\n",
      " 3   top genre  603 non-null    object\n",
      " 4   year       603 non-null    int64 \n",
      " 5   bpm        603 non-null    int64 \n",
      " 6   nrgy       603 non-null    int64 \n",
      " 7   dnce       603 non-null    int64 \n",
      " 8   dB         603 non-null    int64 \n",
      " 9   live       603 non-null    int64 \n",
      " 10  val        603 non-null    int64 \n",
      " 11  dur        603 non-null    int64 \n",
      " 12  acous      603 non-null    int64 \n",
      " 13  spch       603 non-null    int64 \n",
      " 14  pop        603 non-null    int64 \n",
      "dtypes: int64(12), object(3)\n",
      "memory usage: 70.8+ KB\n"
     ]
    }
   ],
   "source": [
    "all_top_songs.info()"
   ]
  },
  {
   "cell_type": "markdown",
   "id": "2c93b0ac-5732-4fdd-acba-44510f4ef273",
   "metadata": {},
   "source": [
    "-----"
   ]
  },
  {
   "cell_type": "markdown",
   "id": "1d08b426-9ec6-4d47-a0ee-fa07d3904aec",
   "metadata": {},
   "source": [
    "# What is the most popular song in the dataset?"
   ]
  },
  {
   "cell_type": "code",
   "execution_count": 122,
   "id": "1de5ced4-c785-4f78-a115-a19df8f59b49",
   "metadata": {},
   "outputs": [
    {
     "name": "stdout",
     "output_type": "stream",
     "text": [
      "title     Memories\n",
      "artist    Maroon 5\n",
      "pop             99\n",
      "Name: 572, dtype: object\n"
     ]
    }
   ],
   "source": [
    "most_popular_song = all_top_songs.loc[all_top_songs['pop'].idxmax()]\n",
    "print(most_popular_song[['title','artist','pop']])"
   ]
  },
  {
   "cell_type": "markdown",
   "id": "da555203-bf58-4efb-8b8c-36ef004effa5",
   "metadata": {},
   "source": [
    "The most popular song in the data set is \"Memories\", by Maroon 5, with a popularity score of 99."
   ]
  },
  {
   "cell_type": "markdown",
   "id": "0e8db2ff-d362-404d-81b8-c6cf92ba3a6a",
   "metadata": {},
   "source": [
    "-----"
   ]
  },
  {
   "cell_type": "markdown",
   "id": "2141428f-8291-4f9c-95ef-6cd845cca038",
   "metadata": {},
   "source": [
    "# What artist has the most songs in the dataset?"
   ]
  },
  {
   "cell_type": "code",
   "execution_count": 124,
   "id": "704372fd-6cce-4652-9af0-4114dab8c63b",
   "metadata": {},
   "outputs": [
    {
     "name": "stdout",
     "output_type": "stream",
     "text": [
      "Katy Perry\n"
     ]
    }
   ],
   "source": [
    "most_songs_by_an_artist = all_top_songs['artist'].value_counts().idxmax()\n",
    "print(most_songs_by_an_artist)"
   ]
  },
  {
   "cell_type": "markdown",
   "id": "74d0a098-5e3b-4083-bc5e-60cea4a07541",
   "metadata": {},
   "source": [
    "Katy Perry has the most songs in the dataset."
   ]
  },
  {
   "cell_type": "markdown",
   "id": "4ccb4923-8630-47b8-9e56-5e691e1c2c62",
   "metadata": {},
   "source": [
    "-------"
   ]
  },
  {
   "cell_type": "markdown",
   "id": "049f290e-fb46-47d6-817c-623d437931c5",
   "metadata": {},
   "source": [
    "# What is the most popular genre of music in the dataset?"
   ]
  },
  {
   "cell_type": "code",
   "execution_count": 126,
   "id": "f04cbd6e-a893-49e0-9fe3-78d67356da98",
   "metadata": {},
   "outputs": [
    {
     "name": "stdout",
     "output_type": "stream",
     "text": [
      "dance pop\n"
     ]
    }
   ],
   "source": [
    "group_by_genre = all_top_songs.groupby('top genre')['pop'].sum()\n",
    "most_popular_genre = group_by_genre.idxmax()\n",
    "print(most_popular_genre)"
   ]
  },
  {
   "cell_type": "markdown",
   "id": "f7ca8170-31fc-4b2f-9985-08c0c9ae727d",
   "metadata": {},
   "source": [
    "The most popular genre is Dance Pop."
   ]
  },
  {
   "cell_type": "markdown",
   "id": "ceac4596-5f71-4f64-b3b7-84ba6cf6c547",
   "metadata": {},
   "source": [
    "------"
   ]
  },
  {
   "cell_type": "markdown",
   "id": "5ce19ad2-0575-4795-bf23-003ae0c63ea9",
   "metadata": {},
   "source": [
    "# Are there any songs in the dataset more than once?"
   ]
  },
  {
   "cell_type": "code",
   "execution_count": null,
   "id": "98078d6d-88ed-4a00-93e3-c4a71f8e0b22",
   "metadata": {},
   "outputs": [],
   "source": []
  },
  {
   "cell_type": "markdown",
   "id": "b07dd333-44d6-4953-9eac-831e88765f34",
   "metadata": {},
   "source": [
    "# Is there a relationship between popularity and danceability?"
   ]
  },
  {
   "cell_type": "code",
   "execution_count": null,
   "id": "00182e9f-6b9d-4de5-8f22-c40f3c6622ed",
   "metadata": {},
   "outputs": [],
   "source": []
  },
  {
   "cell_type": "markdown",
   "id": "43dc3b7b-2eda-4cd2-a3fc-b391e9a630e9",
   "metadata": {},
   "source": [
    "# Does having a higher bpm lead to having a higher energy score?"
   ]
  },
  {
   "cell_type": "code",
   "execution_count": null,
   "id": "52e98fe9-ea71-42e3-aa10-7abb8c88825d",
   "metadata": {},
   "outputs": [],
   "source": []
  },
  {
   "cell_type": "markdown",
   "id": "9b686422-6ece-4e51-91d5-2a5e56282abf",
   "metadata": {},
   "source": [
    "# Which genre has the highest energy score?"
   ]
  },
  {
   "cell_type": "code",
   "execution_count": null,
   "id": "fe82235d-9b8a-49b7-a07b-fc2d74f1353e",
   "metadata": {},
   "outputs": [],
   "source": []
  },
  {
   "cell_type": "markdown",
   "id": "bde5adfc-1b70-49f4-bb40-90cda297e87c",
   "metadata": {},
   "source": [
    "# What percentage of songs may have been recorded live? (Consider anything above 50 in the live column to be recorded live)"
   ]
  },
  {
   "cell_type": "code",
   "execution_count": null,
   "id": "d62eb078-fc01-45e8-a3a9-f6bdca02f423",
   "metadata": {},
   "outputs": [],
   "source": []
  },
  {
   "cell_type": "markdown",
   "id": "0cd677c7-eede-4d4a-a50d-1ee1d93c4575",
   "metadata": {},
   "source": [
    "# What percentage of songs were acoustic? (Consider anything above 50 in the acoustic column to be acoustic)"
   ]
  },
  {
   "cell_type": "code",
   "execution_count": null,
   "id": "06b6be11-a967-4edb-8028-39c487d5a215",
   "metadata": {},
   "outputs": [],
   "source": []
  },
  {
   "cell_type": "markdown",
   "id": "7059e083-2efa-48a0-9c1c-569beb4d2072",
   "metadata": {},
   "source": [
    "# Which year’s songs have the highest amount of spoken word in the song?"
   ]
  },
  {
   "cell_type": "code",
   "execution_count": null,
   "id": "79d60fe2-85e7-42d3-8c82-e4b3997b65a4",
   "metadata": {},
   "outputs": [],
   "source": []
  },
  {
   "cell_type": "markdown",
   "id": "7b14ea88-b8aa-46a1-a8cd-890d935bbdf6",
   "metadata": {},
   "source": []
  },
  {
   "cell_type": "code",
   "execution_count": null,
   "id": "32a3d1b5-54a1-467d-9609-14cc897b42ad",
   "metadata": {},
   "outputs": [],
   "source": []
  },
  {
   "cell_type": "code",
   "execution_count": null,
   "id": "af8a5513-229f-48d3-9b12-da534fc38e54",
   "metadata": {},
   "outputs": [],
   "source": []
  },
  {
   "cell_type": "code",
   "execution_count": null,
   "id": "57a80d34-935e-4472-a1d7-136ebc73c65e",
   "metadata": {},
   "outputs": [],
   "source": []
  }
 ],
 "metadata": {
  "kernelspec": {
   "display_name": "Python 3 (ipykernel)",
   "language": "python",
   "name": "python3"
  },
  "language_info": {
   "codemirror_mode": {
    "name": "ipython",
    "version": 3
   },
   "file_extension": ".py",
   "mimetype": "text/x-python",
   "name": "python",
   "nbconvert_exporter": "python",
   "pygments_lexer": "ipython3",
   "version": "3.12.4"
  }
 },
 "nbformat": 4,
 "nbformat_minor": 5
}
